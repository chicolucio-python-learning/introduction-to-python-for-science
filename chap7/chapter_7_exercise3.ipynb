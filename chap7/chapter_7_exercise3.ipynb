{
 "cells": [
  {
   "cell_type": "markdown",
   "metadata": {},
   "source": [
    "Write a function to draw a circular smiley face with eyes, a nose, and a mouth. One argument should set the overall size of the face (the circle radius). Optional arguments should allow the user to specify the `(x, y)` position of the face, whether the face is smiling or frowning, and the color of the lines. The default should\n",
    "be a smiling blue face centered at `(0, 0)`. Once you write your function, write a program that calls it several times to produce a plot like the one below (creative improvisation is encouraged!). In producing your plot, you may find the call `plt.axes().set_aspect(1)` useful so that circles appear as circles and not ovals. You should only use MatPlotLib functions introduced in this text. To create a circle you can create an array of angles that goes from 0 to 2π and then produce the `x` and `y` arrays for your circle by taking the cosine and sine, respectively, of the array. Hint: You can use the same `(x, y)` arrays to make the smile and frown as you used to make the circle by plotting appropriate slices of those arrays. You do not need to create new arrays."
   ]
  },
  {
   "cell_type": "code",
   "execution_count": 37,
   "metadata": {},
   "outputs": [
    {
     "data": {
      "image/png": "[encoded data removed]",
      "text/plain": [
       "<matplotlib.figure.Figure at 0x7f8d1a93d9b0>"
      ]
     },
     "metadata": {},
     "output_type": "display_data"
    }
   ],
   "source": [
    "def semi_circle(r, x0=0.0, y0=0.0, n=50, in_ang=0.0, end_ang=np.pi):\n",
    "    theta = np.linspace(in_ang, end_ang, n, endpoint=False)\n",
    "    x = r * np.cos(theta)\n",
    "    y = r * np.sin(theta)\n",
    "    return x0 + x, y0 + y\n",
    "\n",
    "\n",
    "def circle(r, x0=0.0, y0=0.0, n=12):\n",
    "    theta = np.linspace(0., 2. * np.pi, n, endpoint=True)\n",
    "    x = r * np.cos(theta)\n",
    "    y = r * np.sin(theta)\n",
    "    return x0 + x, y0 + y\n",
    "\n",
    "\n",
    "import numpy as np\n",
    "import matplotlib.pyplot as plt\n",
    "\n",
    "######################### face centered\n",
    "\n",
    "############## circle\n",
    "x0, y0 = 0, 0\n",
    "r = 4\n",
    "n = 100\n",
    "x, y = circle(r, x0, y0, n)\n",
    "plt.plot(x, y, 'r-')\n",
    "\n",
    "########### eyes\n",
    "x0, y0 = -2, 2\n",
    "r = 0.5\n",
    "n = 50\n",
    "x, y = circle(r, x0, y0, n)\n",
    "plt.plot(x, y, 'r-')\n",
    "\n",
    "x0, y0 = 2, 2\n",
    "r = 0.5\n",
    "n = 50\n",
    "x, y = circle(r, x0, y0, n)\n",
    "plt.plot(x, y, 'r-')\n",
    "\n",
    "########## nose\n",
    "x0, y0 = 0, 0\n",
    "r = 0.3\n",
    "n = 50\n",
    "x, y = circle(r, x0, y0, n)\n",
    "plt.plot(x, y, 'r-')\n",
    "\n",
    "########## smile\n",
    "x0, y0 = 0, -2.0\n",
    "r = 1\n",
    "n = 50\n",
    "x, y = semi_circle(r, x0, y0, n, np.pi, 2 * np.pi)\n",
    "plt.plot(x, y, 'r-')\n",
    "\n",
    "######################### face up right\n",
    "\n",
    "############## circle\n",
    "x0, y0 = 8, 8\n",
    "r = 3\n",
    "n = 100\n",
    "x, y = circle(r, x0, y0, n)\n",
    "plt.plot(x, y, 'g-')\n",
    "\n",
    "########### eyes\n",
    "x0, y0 = 7, 9.5\n",
    "r = 0.5\n",
    "n = 50\n",
    "x, y = circle(r, x0, y0, n)\n",
    "plt.plot(x, y, 'g-')\n",
    "\n",
    "x0, y0 = 9, 9.5\n",
    "r = 0.5\n",
    "n = 50\n",
    "x, y = circle(r, x0, y0, n)\n",
    "plt.plot(x, y, 'g-')\n",
    "\n",
    "########## nose\n",
    "x0, y0 = 8, 8\n",
    "r = 0.3\n",
    "n = 50\n",
    "x, y = circle(r, x0, y0, n)\n",
    "plt.plot(x, y, 'g-')\n",
    "\n",
    "########## smile\n",
    "x0, y0 = 8, 7.5\n",
    "r = 2\n",
    "n = 50\n",
    "x, y = semi_circle(r, x0, y0, n, np.pi, 2 * np.pi)\n",
    "plt.plot(x, y, 'g-')\n",
    "\n",
    "######################### face down left\n",
    "\n",
    "############## circle\n",
    "x0, y0 = -8, -8\n",
    "r = 3\n",
    "n = 100\n",
    "x, y = circle(r, x0, y0, n)\n",
    "plt.plot(x, y, 'y-')\n",
    "\n",
    "########### eyes\n",
    "x0, y0 = -9, -6\n",
    "r = 0.5\n",
    "n = 50\n",
    "x, y = circle(r, x0, y0, n)\n",
    "plt.plot(x, y, 'y-')\n",
    "\n",
    "x0, y0 = -7, -6\n",
    "r = 0.5\n",
    "n = 50\n",
    "x, y = circle(r, x0, y0, n)\n",
    "plt.plot(x, y, 'y-')\n",
    "\n",
    "########## nose\n",
    "x0, y0 = -8, -8\n",
    "r = 0.3\n",
    "n = 50\n",
    "x, y = circle(r, x0, y0, n)\n",
    "plt.plot(x, y, 'y-')\n",
    "\n",
    "########## frown\n",
    "x0, y0 = -8, -11.\n",
    "r = 2\n",
    "n = 50\n",
    "x, y = semi_circle(r, x0, y0, n, np.pi / 6, 5 * np.pi / 6)\n",
    "plt.plot(x, y, 'y-')\n",
    "\n",
    "################################################# no more faces\n",
    "plt.axes().set_aspect('equal')\n",
    "plt.show()"
   ]
  },
  {
   "cell_type": "code",
   "execution_count": null,
   "metadata": {
    "collapsed": true
   },
   "outputs": [],
   "source": []
  }
 ],
 "metadata": {
  "hide_input": false,
  "kernelspec": {
   "display_name": "Python 3",
   "language": "python",
   "name": "python3"
  },
  "language_info": {
   "codemirror_mode": {
    "name": "ipython",
    "version": 3
   },
   "file_extension": ".py",
   "mimetype": "text/x-python",
   "name": "python",
   "nbconvert_exporter": "python",
   "pygments_lexer": "ipython3",
   "version": "3.7.3"
  },
  "toc": {
   "base_numbering": 1,
   "nav_menu": {},
   "number_sections": true,
   "sideBar": true,
   "skip_h1_title": false,
   "title_cell": "Table of Contents",
   "title_sidebar": "Contents",
   "toc_cell": false,
   "toc_position": {},
   "toc_section_display": true,
   "toc_window_display": false
  },
  "varInspector": {
   "cols": {
    "lenName": 16,
    "lenType": 16,
    "lenVar": 40
   },
   "kernels_config": {
    "python": {
     "delete_cmd_postfix": "",
     "delete_cmd_prefix": "del ",
     "library": "var_list.py",
     "varRefreshCmd": "print(var_dic_list())"
    },
    "r": {
     "delete_cmd_postfix": ") ",
     "delete_cmd_prefix": "rm(",
     "library": "var_list.r",
     "varRefreshCmd": "cat(var_dic_list()) "
    }
   },
   "types_to_exclude": [
    "module",
    "function",
    "builtin_function_or_method",
    "instance",
    "_Feature"
   ],
   "window_display": false
  }
 },
 "nbformat": 4,
 "nbformat_minor": 2
}
