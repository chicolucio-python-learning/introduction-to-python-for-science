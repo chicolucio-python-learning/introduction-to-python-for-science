{
 "cells": [
  {
   "cell_type": "markdown",
   "metadata": {},
   "source": [
    "(a) Write a function that simulates the rolling of n dice. Use the NumPy function `random.random_integers(6)`, which generates a random integer between 1 and 6 with equal probability (like rolling fair dice). The input of your function should be the number of dice thrown each roll and the output should be the sum of the `n` dice.\n",
    "\n",
    "(b) “Roll” 2 dice 10,000 times keeping track of all the sums of each set of rolls in a list. Then use your program to generate a histogram summarizing the rolls of two dice 10,000 times. The result should look like\n",
    "the histogram plotted below. Use the MatPlotLib function hist (see http://matplotlib.org/api/pyplot_summary.html) and set the number of bins in the histogram equal to the number of different possible outcomes of a roll of your dice. For example, the sum of two dice can be anything between 2 and 12, which corresponds to 11 possible outcomes. You should get a histogram that looks like the one below.\n",
    "\n",
    "(c) “Repeat part (b) using 3 dice and plot the resulting histogram."
   ]
  },
  {
   "cell_type": "code",
   "execution_count": 7,
   "metadata": {},
   "outputs": [
    {
     "data": {
      "text/plain": [
       "array([5, 2, 4, 1, 4, 4, 2, 2, 3, 3, 2, 2, 4, 4, 3, 2, 2, 3, 4, 1, 4, 4, 4,\n",
       "       2, 5, 4, 5, 2, 5, 5, 2, 4, 4, 5, 2, 4, 4, 2, 1, 3, 1, 2, 1, 3, 2, 5,\n",
       "       2, 2, 1, 2, 2, 3, 1, 5, 1, 4, 1, 3, 3, 4, 3, 3, 1, 5, 4, 2, 5, 1, 3,\n",
       "       5, 3, 1, 5, 3, 3, 5, 1, 5, 5, 4, 3, 5, 3, 5, 1, 5, 5, 4, 4, 2, 2, 1,\n",
       "       1, 2, 1, 5, 4, 2, 1, 2])"
      ]
     },
     "execution_count": 7,
     "metadata": {},
     "output_type": "execute_result"
    }
   ],
   "source": [
    "import numpy as np\n",
    "n = 100\n",
    "np.random.randint(1, 6, size=n)"
   ]
  },
  {
   "cell_type": "code",
   "execution_count": 11,
   "metadata": {},
   "outputs": [
    {
     "name": "stdout",
     "output_type": "stream",
     "text": [
      "[5 5 5 2 4]\n",
      "21\n"
     ]
    }
   ],
   "source": [
    "def roll_dices(dices):\n",
    "    roll = np.random.randint(1, 6, size=dices)\n",
    "    roll_sum = roll.sum()\n",
    "    print(roll)\n",
    "    return roll_sum\n",
    "\n",
    "\n",
    "import numpy as np\n",
    "\n",
    "test = roll_dices(5)\n",
    "print(test)"
   ]
  },
  {
   "cell_type": "code",
   "execution_count": 83,
   "metadata": {},
   "outputs": [
    {
     "data": {
      "image/png": "[encoded data removed]",
      "text/plain": [
       "<matplotlib.figure.Figure at 0x7fb1845be358>"
      ]
     },
     "metadata": {},
     "output_type": "display_data"
    }
   ],
   "source": [
    "def roll_dices(dices, times):\n",
    "    acc_sum = []\n",
    "    for i in range(0, times):\n",
    "        roll = np.random.randint(1, 7, size=dices)\n",
    "        roll_sum = roll.sum()\n",
    "        acc_sum += [roll_sum]\n",
    "        #print(roll)\n",
    "    return acc_sum\n",
    "\n",
    "\n",
    "import numpy as np\n",
    "import matplotlib.pyplot as plt\n",
    "\n",
    "n_dices = 2\n",
    "roll_times = 100000\n",
    "\n",
    "binwidth = 1\n",
    "bins = np.arange(n_dices, 6 * n_dices + 2 * binwidth,\n",
    "                 binwidth)  #magia para centralizar escala\n",
    "\n",
    "acc_sum = roll_dices(n_dices, roll_times)\n",
    "\n",
    "plt.figure(1, figsize=(10, 6))\n",
    "plt.hist(acc_sum,\n",
    "         bins,\n",
    "         align='left',\n",
    "         normed=False,\n",
    "         facecolor='b',\n",
    "         alpha=0.5,\n",
    "         edgecolor='k')\n",
    "plt.xlabel('sum')\n",
    "plt.xlim(n_dices - 0.5, 6 * n_dices + 0.5)  #magia para centralizar escala\n",
    "plt.xticks(range(n_dices, 6 * n_dices + 1))  #magia para centralizar escala\n",
    "plt.ylabel('times')\n",
    "plt.grid(linestyle=':', linewidth=0.5)\n",
    "\n",
    "# display plot on screen\n",
    "plt.show()\n",
    "\n",
    "#print(acc_sum)"
   ]
  },
  {
   "cell_type": "code",
   "execution_count": null,
   "metadata": {
    "collapsed": true
   },
   "outputs": [],
   "source": []
  }
 ],
 "metadata": {
  "hide_input": false,
  "kernelspec": {
   "display_name": "Python 3",
   "language": "python",
   "name": "python3"
  },
  "language_info": {
   "codemirror_mode": {
    "name": "ipython",
    "version": 3
   },
   "file_extension": ".py",
   "mimetype": "text/x-python",
   "name": "python",
   "nbconvert_exporter": "python",
   "pygments_lexer": "ipython3",
   "version": "3.7.3"
  },
  "toc": {
   "base_numbering": 1,
   "nav_menu": {},
   "number_sections": true,
   "sideBar": true,
   "skip_h1_title": false,
   "title_cell": "Table of Contents",
   "title_sidebar": "Contents",
   "toc_cell": false,
   "toc_position": {},
   "toc_section_display": true,
   "toc_window_display": false
  },
  "varInspector": {
   "cols": {
    "lenName": 16,
    "lenType": 16,
    "lenVar": 40
   },
   "kernels_config": {
    "python": {
     "delete_cmd_postfix": "",
     "delete_cmd_prefix": "del ",
     "library": "var_list.py",
     "varRefreshCmd": "print(var_dic_list())"
    },
    "r": {
     "delete_cmd_postfix": ") ",
     "delete_cmd_prefix": "rm(",
     "library": "var_list.r",
     "varRefreshCmd": "cat(var_dic_list()) "
    }
   },
   "types_to_exclude": [
    "module",
    "function",
    "builtin_function_or_method",
    "instance",
    "_Feature"
   ],
   "window_display": false
  }
 },
 "nbformat": 4,
 "nbformat_minor": 2
}
