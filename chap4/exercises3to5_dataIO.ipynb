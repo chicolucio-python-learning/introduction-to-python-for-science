{
 "cells": [
  {
   "cell_type": "markdown",
   "metadata": {},
   "source": [
    "[comment]: # (Created on Mon May 13 20:12:00 2017 @author: Francisco Bustamante @email: chicolucio@gmail.com)\n",
    "[comment]: # (Exercícios nº 3, 4 e 5 - capítulo 4 - Python for Science)\n",
    "\n",
    "# Data IO"
   ]
  },
  {
   "cell_type": "code",
   "execution_count": 2,
   "metadata": {},
   "outputs": [
    {
     "name": "stdout",
     "output_type": "stream",
     "text": [
      "Date: 2013-09-16\r",
      "\r\n",
      "Data taken by Liam and Selena\r",
      "\r\n",
      "\r",
      "\r\n",
      "frequency (Hz) amplitude (mm) amp error (mm)\r",
      "\r\n",
      "\r",
      "\r\n",
      "0.7500 \t\t\t13.52 \t\t\t0.32\r",
      "\r\n",
      "1.7885 \t\t\t12.11 \t\t\t0.92\r",
      "\r\n",
      "2.8269 \t\t\t14.27 \t\t\t0.73\r",
      "\r\n",
      "3.8654 \t\t\t16.60 \t\t\t2.06\r",
      "\r\n",
      "4.9038 \t\t\t22.91 \t\t\t1.75\r",
      "\r\n",
      "5.9423 \t\t\t35.28 \t\t\t0.91\r",
      "\r\n",
      "6.9808 \t\t\t60.99 \t\t\t0.99\r",
      "\r\n",
      "8.0192 \t\t\t33.38 \t\t\t0.36\r",
      "\r\n",
      "9.0577 \t\t\t17.78 \t\t\t2.32\r",
      "\r\n",
      "10.0962 \t\t10.99 \t\t\t0.21\r",
      "\r\n",
      "11.1346 \t\t7.47 \t\t\t0.48\r",
      "\r\n",
      "12.1731 \t\t6.72 \t\t\t0.51\r",
      "\r\n",
      "13.2115 \t\t4.40 \t\t\t0.58\r",
      "\r\n",
      "14.2500 \t\t4.07 \t\t\t0.63"
     ]
    }
   ],
   "source": [
    "!cat exercise3data.txt"
   ]
  },
  {
   "cell_type": "code",
   "execution_count": 3,
   "metadata": {},
   "outputs": [
    {
     "name": "stdout",
     "output_type": "stream",
     "text": [
      "f =  [ 0.75    1.7885  2.8269  3.8654  4.9038  5.9423  6.9808  8.0192  9.0577\n",
      " 10.0962 11.1346 12.1731 13.2115 14.25  ]\n",
      "a =  [13.52 12.11 14.27 16.6  22.91 35.28 60.99 33.38 17.78 10.99  7.47  6.72\n",
      "  4.4   4.07]\n",
      "da =  [0.32 0.92 0.73 2.06 1.75 0.91 0.99 0.36 2.32 0.21 0.48 0.51 0.58 0.63]\n"
     ]
    }
   ],
   "source": [
    "import numpy as np\n",
    "\n",
    "f, a, da = np.loadtxt(\"exercise3data.txt\", skiprows=5 , unpack=True)\n",
    "\n",
    "np.set_printoptions(threshold=np.inf) #mostra todos os dados\n",
    "np.set_printoptions(precision=4)\n",
    "print(\"f = \", f)\n",
    "np.set_printoptions(precision=2)\n",
    "print(\"a = \", a)\n",
    "print(\"da = \", da)\n",
    "\n",
    "\n",
    "info = 'Data for frequency experiment'\n",
    "info += '\\nDate: 2013-09-16'\n",
    "info += '\\nData taken by Liam and Selena'\n",
    "info += '\\n\\nfrequency (Hz)    amplitude (mm)     amp error (mm)'\n",
    "\n",
    "np.savetxt('exercise3dataout.txt', list(zip(f, a, da)), header = info, \n",
    "           fmt=\"%15.4f %15.2f %15.2f\")\n",
    "\n",
    "np.savetxt('exercise3dataout.csv',\n",
    "        list(zip(f, a, da)), fmt=\"%0.16e\", delimiter=\",\")"
   ]
  },
  {
   "cell_type": "code",
   "execution_count": 4,
   "metadata": {},
   "outputs": [
    {
     "name": "stdout",
     "output_type": "stream",
     "text": [
      "# Data for frequency experiment\r\n",
      "# Date: 2013-09-16\r\n",
      "# Data taken by Liam and Selena\r\n",
      "# \r\n",
      "# frequency (Hz)    amplitude (mm)     amp error (mm)\r\n",
      "         0.7500           13.52            0.32\r\n",
      "         1.7885           12.11            0.92\r\n",
      "         2.8269           14.27            0.73\r\n",
      "         3.8654           16.60            2.06\r\n",
      "         4.9038           22.91            1.75\r\n",
      "         5.9423           35.28            0.91\r\n",
      "         6.9808           60.99            0.99\r\n",
      "         8.0192           33.38            0.36\r\n",
      "         9.0577           17.78            2.32\r\n",
      "        10.0962           10.99            0.21\r\n",
      "        11.1346            7.47            0.48\r\n",
      "        12.1731            6.72            0.51\r\n",
      "        13.2115            4.40            0.58\r\n",
      "        14.2500            4.07            0.63\r\n"
     ]
    }
   ],
   "source": [
    "!cat exercise3dataout.txt"
   ]
  },
  {
   "cell_type": "code",
   "execution_count": 5,
   "metadata": {},
   "outputs": [
    {
     "name": "stdout",
     "output_type": "stream",
     "text": [
      "7.5000000000000000e-01,1.3520000000000000e+01,3.2000000000000001e-01\r\n",
      "1.7885000000000000e+00,1.2109999999999999e+01,9.2000000000000004e-01\r\n",
      "2.8269000000000002e+00,1.4270000000000000e+01,7.2999999999999998e-01\r\n",
      "3.8654000000000002e+00,1.6600000000000001e+01,2.0600000000000001e+00\r\n",
      "4.9038000000000004e+00,2.2910000000000000e+01,1.7500000000000000e+00\r\n",
      "5.9423000000000004e+00,3.5280000000000001e+01,9.1000000000000003e-01\r\n",
      "6.9808000000000003e+00,6.0990000000000002e+01,9.8999999999999999e-01\r\n",
      "8.0191999999999997e+00,3.3380000000000003e+01,3.5999999999999999e-01\r\n",
      "9.0577000000000005e+00,1.7780000000000001e+01,2.3199999999999998e+00\r\n",
      "1.0096200000000000e+01,1.0990000000000000e+01,2.0999999999999999e-01\r\n",
      "1.1134600000000001e+01,7.4699999999999998e+00,4.7999999999999998e-01\r\n",
      "1.2173100000000000e+01,6.7199999999999998e+00,5.1000000000000001e-01\r\n",
      "1.3211499999999999e+01,4.4000000000000004e+00,5.7999999999999996e-01\r\n",
      "1.4250000000000000e+01,4.0700000000000003e+00,6.3000000000000000e-01\r\n"
     ]
    }
   ],
   "source": [
    "!cat exercise3dataout.csv"
   ]
  },
  {
   "cell_type": "code",
   "execution_count": 6,
   "metadata": {},
   "outputs": [
    {
     "data": {
      "text/plain": [
       "numpy.ndarray"
      ]
     },
     "execution_count": 6,
     "metadata": {},
     "output_type": "execute_result"
    }
   ],
   "source": [
    "type(f)"
   ]
  },
  {
   "cell_type": "code",
   "execution_count": null,
   "metadata": {},
   "outputs": [],
   "source": []
  }
 ],
 "metadata": {
  "hide_input": false,
  "kernelspec": {
   "display_name": "Python 3",
   "language": "python",
   "name": "python3"
  },
  "language_info": {
   "codemirror_mode": {
    "name": "ipython",
    "version": 3
   },
   "file_extension": ".py",
   "mimetype": "text/x-python",
   "name": "python",
   "nbconvert_exporter": "python",
   "pygments_lexer": "ipython3",
   "version": "3.7.3"
  },
  "toc": {
   "base_numbering": 1,
   "nav_menu": {},
   "number_sections": true,
   "sideBar": true,
   "skip_h1_title": false,
   "title_cell": "Table of Contents",
   "title_sidebar": "Contents",
   "toc_cell": false,
   "toc_position": {},
   "toc_section_display": true,
   "toc_window_display": false
  },
  "varInspector": {
   "cols": {
    "lenName": 16,
    "lenType": 16,
    "lenVar": 40
   },
   "kernels_config": {
    "python": {
     "delete_cmd_postfix": "",
     "delete_cmd_prefix": "del ",
     "library": "var_list.py",
     "varRefreshCmd": "print(var_dic_list())"
    },
    "r": {
     "delete_cmd_postfix": ") ",
     "delete_cmd_prefix": "rm(",
     "library": "var_list.r",
     "varRefreshCmd": "cat(var_dic_list()) "
    }
   },
   "types_to_exclude": [
    "module",
    "function",
    "builtin_function_or_method",
    "instance",
    "_Feature"
   ],
   "window_display": false
  }
 },
 "nbformat": 4,
 "nbformat_minor": 2
}
