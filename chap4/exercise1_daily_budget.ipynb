{
 "cells": [
  {
   "cell_type": "markdown",
   "metadata": {},
   "source": [
    "[comment]: # (Created on Mon May 13 20:00:00 2017 @author: Francisco Bustamante @email: chicolucio@gmail.com)\n",
    "[comment]: # (Exercício nº 1 - capítulo 4 - Python for Science)\n",
    "\n",
    "# Orçamento diário"
   ]
  },
  {
   "cell_type": "code",
   "execution_count": 3,
   "metadata": {},
   "outputs": [
    {
     "name": "stdout",
     "output_type": "stream",
     "text": [
      "Esse programa calcula quanto se pode gastar no almoço por dia com base no atual dia do mês e no número de dias do mês. \n",
      " *Usa dicionários. *Lembre de entrar os valores com '.' ao invés de ','\n",
      "Qual seu saldo disponível para almoço no momento? 70\n",
      "Que dia é hoje (entre apenas com o número)? 13\n",
      "Qual mês (por extenso, em minúsculas)? maio\n",
      "\n",
      "Calculando... \n",
      "\n",
      "Você pode gastar R$ 3.68 por dia pelo resto do mês\n"
     ]
    }
   ],
   "source": [
    "print(\"Esse programa calcula quanto se pode gastar no almoço por dia com base \\\n",
    "no atual dia do mês e no número de dias do mês. \\n \\\n",
    "*Usa dicionários. \\\n",
    "*Lembre de entrar os valores com '.' ao invés de ','\")\n",
    "\n",
    "months = {\"janeiro\":31, \"fevereiro\":28, \"março\":31, \"abril\":30, \"maio\":31, \\\n",
    "          \"junho\": 30, \"julho\":31, \"agosto\":31, \"setembro\":30, \"outubro\":31, \\\n",
    "          \"novembro\":30, \"dezembro\":31}\n",
    "\n",
    "money0 = float(input(\"Qual seu saldo disponível para almoço no momento? \"))\n",
    "today = int(input(\"Que dia é hoje (entre apenas com o número)? \"))\n",
    "month_key = str(input(\"Qual mês (por extenso, em minúsculas)? \"))\n",
    "\n",
    "print(\"\\nCalculando... \\n\")\n",
    "\n",
    "month_days = months[month_key]\n",
    "money_lunch = money0 / (month_days - today + 1) # \"+ 1\" para considerar o dia de hoje\n",
    "\n",
    "print(\"Você pode gastar R$ {0:0.2f}\".format(money_lunch), \"por dia pelo \\\n",
    "resto do mês\")\n"
   ]
  },
  {
   "cell_type": "markdown",
   "metadata": {},
   "source": [
    "# Futuras melhorias no programa\n",
    "\n",
    "- alterar o programa de forma que ele reconheça que o mês é inválido, aponte o erro e aguarde novo input.\n",
    "- talvez seja melhor fazer interativo, com uma lista suspensa com os meses para o usuário escolher."
   ]
  },
  {
   "cell_type": "code",
   "execution_count": null,
   "metadata": {
    "collapsed": true
   },
   "outputs": [],
   "source": []
  }
 ],
 "metadata": {
  "hide_input": false,
  "kernelspec": {
   "display_name": "Python 3",
   "language": "python",
   "name": "python3"
  },
  "language_info": {
   "codemirror_mode": {
    "name": "ipython",
    "version": 3
   },
   "file_extension": ".py",
   "mimetype": "text/x-python",
   "name": "python",
   "nbconvert_exporter": "python",
   "pygments_lexer": "ipython3",
   "version": "3.7.3"
  },
  "toc": {
   "base_numbering": 1,
   "nav_menu": {},
   "number_sections": true,
   "sideBar": true,
   "skip_h1_title": false,
   "title_cell": "Table of Contents",
   "title_sidebar": "Contents",
   "toc_cell": false,
   "toc_position": {},
   "toc_section_display": true,
   "toc_window_display": false
  },
  "varInspector": {
   "cols": {
    "lenName": 16,
    "lenType": 16,
    "lenVar": 40
   },
   "kernels_config": {
    "python": {
     "delete_cmd_postfix": "",
     "delete_cmd_prefix": "del ",
     "library": "var_list.py",
     "varRefreshCmd": "print(var_dic_list())"
    },
    "r": {
     "delete_cmd_postfix": ") ",
     "delete_cmd_prefix": "rm(",
     "library": "var_list.r",
     "varRefreshCmd": "cat(var_dic_list()) "
    }
   },
   "types_to_exclude": [
    "module",
    "function",
    "builtin_function_or_method",
    "instance",
    "_Feature"
   ],
   "window_display": false
  }
 },
 "nbformat": 4,
 "nbformat_minor": 2
}
