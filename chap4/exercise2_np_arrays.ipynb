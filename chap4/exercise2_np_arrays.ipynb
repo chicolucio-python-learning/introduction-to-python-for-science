{
 "cells": [
  {
   "cell_type": "markdown",
   "metadata": {},
   "source": [
    "[comment]: # (Created on Mon May 13 20:05:00 2017 @author: Francisco Bustamante @email: chicolucio@gmail.com)\n",
    "[comment]: # (Exercício nº 2 - capítulo 4 - Python for Science)\n",
    "\n",
    "# Numpy arrays"
   ]
  },
  {
   "cell_type": "code",
   "execution_count": 1,
   "metadata": {},
   "outputs": [
    {
     "name": "stdout",
     "output_type": "stream",
     "text": [
      "[(1, 8, 0), (3, 7, 9), (5, 5, -6), (7, 4, -8)] --- <class 'list'>\n",
      "\n",
      " -8\n",
      "\n",
      " [[ 1  8  0]\n",
      " [ 3  7  9]\n",
      " [ 5  5 -6]\n",
      " [ 7  4 -8]] --- <class 'numpy.ndarray'>\n",
      "\n",
      " -8\n",
      "-8\n"
     ]
    }
   ],
   "source": [
    "import numpy as np\n",
    "\n",
    "a = np.array([1, 3, 5, 7])\n",
    "b = np.array([8, 7, 5, 4])\n",
    "c = np.array([0, 9,-6,-8])\n",
    "\n",
    "d = list(zip(a, b, c))\n",
    "print(d, \"---\", type(d))\n",
    "print(\"\\n\", d[3][2])\n",
    "\n",
    "e = np.array(d)\n",
    "print(\"\\n\", e, \"---\", type(e))\n",
    "print(\"\\n\", e[3][2])\n",
    "print(e[3,2])\n"
   ]
  },
  {
   "cell_type": "code",
   "execution_count": null,
   "metadata": {
    "collapsed": true
   },
   "outputs": [],
   "source": []
  }
 ],
 "metadata": {
  "hide_input": false,
  "kernelspec": {
   "display_name": "Python 3",
   "language": "python",
   "name": "python3"
  },
  "language_info": {
   "codemirror_mode": {
    "name": "ipython",
    "version": 3
   },
   "file_extension": ".py",
   "mimetype": "text/x-python",
   "name": "python",
   "nbconvert_exporter": "python",
   "pygments_lexer": "ipython3",
   "version": "3.7.3"
  },
  "toc": {
   "base_numbering": 1,
   "nav_menu": {},
   "number_sections": true,
   "sideBar": true,
   "skip_h1_title": false,
   "title_cell": "Table of Contents",
   "title_sidebar": "Contents",
   "toc_cell": false,
   "toc_position": {},
   "toc_section_display": true,
   "toc_window_display": false
  },
  "varInspector": {
   "cols": {
    "lenName": 16,
    "lenType": 16,
    "lenVar": 40
   },
   "kernels_config": {
    "python": {
     "delete_cmd_postfix": "",
     "delete_cmd_prefix": "del ",
     "library": "var_list.py",
     "varRefreshCmd": "print(var_dic_list())"
    },
    "r": {
     "delete_cmd_postfix": ") ",
     "delete_cmd_prefix": "rm(",
     "library": "var_list.r",
     "varRefreshCmd": "cat(var_dic_list()) "
    }
   },
   "types_to_exclude": [
    "module",
    "function",
    "builtin_function_or_method",
    "instance",
    "_Feature"
   ],
   "window_display": false
  }
 },
 "nbformat": 4,
 "nbformat_minor": 2
}
