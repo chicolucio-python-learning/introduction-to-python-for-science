{
 "cells": [
  {
   "cell_type": "code",
   "execution_count": 1,
   "metadata": {},
   "outputs": [
    {
     "name": "stdout",
     "output_type": "stream",
     "text": [
      "Input distance of trip in miles: 450\n"
     ]
    }
   ],
   "source": [
    "distance = input(\"Input distance of trip in miles: \")"
   ]
  },
  {
   "cell_type": "code",
   "execution_count": 4,
   "metadata": {},
   "outputs": [
    {
     "data": {
      "text/plain": [
       "'450'"
      ]
     },
     "execution_count": 4,
     "metadata": {},
     "output_type": "execute_result"
    }
   ],
   "source": [
    "distance"
   ]
  },
  {
   "cell_type": "code",
   "execution_count": 7,
   "metadata": {},
   "outputs": [
    {
     "data": {
      "text/plain": [
       "str"
      ]
     },
     "execution_count": 7,
     "metadata": {},
     "output_type": "execute_result"
    }
   ],
   "source": [
    "type(distance)"
   ]
  },
  {
   "cell_type": "code",
   "execution_count": 3,
   "metadata": {},
   "outputs": [
    {
     "data": {
      "text/plain": [
       "450"
      ]
     },
     "execution_count": 3,
     "metadata": {},
     "output_type": "execute_result"
    }
   ],
   "source": [
    "eval(distance) #converte em número inteiro"
   ]
  },
  {
   "cell_type": "code",
   "execution_count": 10,
   "metadata": {},
   "outputs": [
    {
     "data": {
      "text/plain": [
       "'450'"
      ]
     },
     "execution_count": 10,
     "metadata": {},
     "output_type": "execute_result"
    }
   ],
   "source": [
    "distance"
   ]
  },
  {
   "cell_type": "code",
   "execution_count": 11,
   "metadata": {
    "collapsed": true
   },
   "outputs": [],
   "source": [
    "distance = eval(distance)"
   ]
  },
  {
   "cell_type": "code",
   "execution_count": 12,
   "metadata": {},
   "outputs": [
    {
     "data": {
      "text/plain": [
       "450"
      ]
     },
     "execution_count": 12,
     "metadata": {},
     "output_type": "execute_result"
    }
   ],
   "source": [
    "distance"
   ]
  },
  {
   "cell_type": "code",
   "execution_count": 13,
   "metadata": {
    "collapsed": true
   },
   "outputs": [],
   "source": [
    "distance = float(distance)"
   ]
  },
  {
   "cell_type": "code",
   "execution_count": 14,
   "metadata": {},
   "outputs": [
    {
     "data": {
      "text/plain": [
       "450.0"
      ]
     },
     "execution_count": 14,
     "metadata": {},
     "output_type": "execute_result"
    }
   ],
   "source": [
    "distance"
   ]
  },
  {
   "cell_type": "code",
   "execution_count": 27,
   "metadata": {},
   "outputs": [
    {
     "name": "stdout",
     "output_type": "stream",
     "text": [
      "Input distance of trip in miles: 450\n",
      "\n",
      "Duration of trip = 7.5 hours\n",
      "Gasoline used = 15.0 gallons (@ 30 mpg)\n",
      "Cost of gasoline = $61.50 (@ $4.10/gallon)\n"
     ]
    }
   ],
   "source": [
    "# Calculates time, gallons of gas used, and cost of gasoline for\n",
    "# a trip\n",
    "\n",
    "distance = input(\"Input distance of trip in miles: \")\n",
    "distance = float(distance)\n",
    "\n",
    "mpg = 30. # car mileage\n",
    "speed = 60. # average speed\n",
    "costPerGallon = 4.10 # price of gas\n",
    "\n",
    "time = distance/speed\n",
    "gallons = distance/mpg\n",
    "cost = gallons*costPerGallon\n",
    "\n",
    "print(\"\\nDuration of trip = {0:0.1f} hours\".format(time))                     \n",
    "print(\"Gasoline used = {0:0.1f} gallons (@ {1:0.0f} mpg)\".format(gallons, mpg))        #valor antes \":\"  --> posição em format\n",
    "print(\"Cost of gasoline = ${0:0.2f} (@ ${1:0.2f}/gallon)\".format(cost, costPerGallon))\n"
   ]
  },
  {
   "cell_type": "code",
   "execution_count": 28,
   "metadata": {},
   "outputs": [
    {
     "name": "stdout",
     "output_type": "stream",
     "text": [
      " ***\n",
      "How\n",
      "How are you my friend?\n",
      " 1. How are you my friend?\n",
      " 2. How are you my friend?\n",
      " 3. How How are you my friend? - How are you my friend?\n",
      " 4. How       are you my friend?\n",
      " ***\n",
      "34 942885\n",
      " 6. 34 942885\n",
      " 7.       34     942885\n",
      " ***\n",
      " 8. -3.000\n",
      " 9. -3.000\n",
      "10.   -3.000\n",
      "11.   -3.00011.   -3.000\n",
      " ***\n",
      "12. 3.142e-14\n",
      "13.  3.142e-14\n",
      "14.      0.000\n",
      " ***\n",
      "15. 12345678901234567890\n",
      "16. are you my friend?--      34, 3.142e-14\n"
     ]
    }
   ],
   "source": [
    "string1 = \"How\"\n",
    "string2 = \"are you my friend?\"\n",
    "int1 = 34\n",
    "int2 = 942885\n",
    "float1 = -3.0\n",
    "float2 = 3.141592653589793e-14\n",
    "\n",
    "print(' ***')\n",
    "print(string1)\n",
    "print(string1 + ' ' + string2)\n",
    "print(' 1. {} {}'.format(string1, string2))\n",
    "print(' 2. {0:s} {1:s}'.format(string1, string2))\n",
    "print(' 3. {0:s} {0:s} {1:s} - {0:s} {1:s}'.format(string1, string2))\n",
    "print(' 4. {0:10s}{1:5s}'.format(string1, string2))\n",
    "print(' ***')\n",
    "print(int1, int2)\n",
    "print(' 6. {0:d} {1:d}'.format(int1, int2))\n",
    "print(' 7. {0:8d} {1:10d}'.format(int1, int2))\n",
    "print(' ***')\n",
    "print(' 8. {0:0.3f}'.format(float1))\n",
    "print(' 9. {0:6.3f}'.format(float1))\n",
    "print('10. {0:8.3f}'.format(float1))\n",
    "print(2*'11. {0:8.3f}'.format(float1))\n",
    "print(' ***')\n",
    "print('12. {0:0.3e}'.format(float2))\n",
    "print('13. {0:10.3e}'.format(float2))\n",
    "print('14. {0:10.3f}'.format(float2))\n",
    "print(' ***')\n",
    "print('15. 12345678901234567890')\n",
    "print('16. {0:s}--{1:8d},{2:10.3e}'.format(string2, int1, float2))\n",
    "\n",
    "#Não entendi muito bem a questão do espaçamento nos códigos 9 a 16... ver depois."
   ]
  },
  {
   "cell_type": "code",
   "execution_count": 39,
   "metadata": {},
   "outputs": [
    {
     "name": "stdout",
     "output_type": "stream",
     "text": [
      "[  3.     5.67   8.33  11.    13.67  16.33  19.  ]\n",
      "\n",
      " [  3.     5.67   8.33  11.    13.67  16.33  19.  ]\n",
      "\n",
      " [3.00e+00 5.67e+00 8.33e+00 1.10e+01 1.37e+01 1.63e+01 1.90e+01]\n",
      "\n",
      " [ 3.000  5.667  8.333 11.000 13.667 16.333 19.000]\n",
      "\n",
      " [  3.           5.66666667   8.33333333  11.          13.66666667\n",
      "  16.33333333  19.        ]\n"
     ]
    }
   ],
   "source": [
    "import numpy as np\n",
    "a = np.linspace(3, 19, 7)\n",
    "print(a)\n",
    "\n",
    "np.set_printoptions(precision=2)\n",
    "b = np.linspace(3, 19, 7)\n",
    "print(\"\\n\", b)\n",
    "\n",
    "np.set_printoptions(formatter={'float': lambda x: format(x, '6.2e')})\n",
    "c = np.linspace(3, 19, 7)\n",
    "print(\"\\n\", c)\n",
    "\n",
    "np.set_printoptions(formatter={'float': lambda x: format(x, '6.3f')})\n",
    "d = np.linspace(3, 19, 7)\n",
    "print(\"\\n\", d)\n",
    "\n",
    "np.set_printoptions(precision=8)\n",
    "e = np.linspace(3, 19, 7)\n",
    "print(\"\\n\", e)"
   ]
  },
  {
   "cell_type": "code",
   "execution_count": 37,
   "metadata": {},
   "outputs": [
    {
     "data": {
      "text/plain": [
       "array([  3.  ,   5.67,   8.33,  11.  ,  13.67,  16.33,  19.  ])"
      ]
     },
     "execution_count": 37,
     "metadata": {},
     "output_type": "execute_result"
    }
   ],
   "source": [
    "\n",
    "a"
   ]
  },
  {
   "cell_type": "code",
   "execution_count": null,
   "metadata": {
    "collapsed": true
   },
   "outputs": [],
   "source": []
  }
 ],
 "metadata": {
  "hide_input": false,
  "kernelspec": {
   "display_name": "Python 3",
   "language": "python",
   "name": "python3"
  },
  "language_info": {
   "codemirror_mode": {
    "name": "ipython",
    "version": 3
   },
   "file_extension": ".py",
   "mimetype": "text/x-python",
   "name": "python",
   "nbconvert_exporter": "python",
   "pygments_lexer": "ipython3",
   "version": "3.7.3"
  },
  "toc": {
   "base_numbering": 1,
   "nav_menu": {},
   "number_sections": true,
   "sideBar": true,
   "skip_h1_title": false,
   "title_cell": "Table of Contents",
   "title_sidebar": "Contents",
   "toc_cell": false,
   "toc_position": {},
   "toc_section_display": true,
   "toc_window_display": false
  },
  "varInspector": {
   "cols": {
    "lenName": 16,
    "lenType": 16,
    "lenVar": 40
   },
   "kernels_config": {
    "python": {
     "delete_cmd_postfix": "",
     "delete_cmd_prefix": "del ",
     "library": "var_list.py",
     "varRefreshCmd": "print(var_dic_list())"
    },
    "r": {
     "delete_cmd_postfix": ") ",
     "delete_cmd_prefix": "rm(",
     "library": "var_list.r",
     "varRefreshCmd": "cat(var_dic_list()) "
    }
   },
   "types_to_exclude": [
    "module",
    "function",
    "builtin_function_or_method",
    "instance",
    "_Feature"
   ],
   "window_display": false
  }
 },
 "nbformat": 4,
 "nbformat_minor": 1
}
