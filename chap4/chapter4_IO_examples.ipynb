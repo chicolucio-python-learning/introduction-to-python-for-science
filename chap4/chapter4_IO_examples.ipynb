{
 "cells": [
  {
   "cell_type": "markdown",
   "metadata": {},
   "source": [
    "# Capítulo 4 - I/O"
   ]
  },
  {
   "cell_type": "code",
   "execution_count": 6,
   "metadata": {},
   "outputs": [
    {
     "name": "stdout",
     "output_type": "stream",
     "text": [
      "﻿Data for falling mass experiment\r\n",
      "Date: 16-Aug-2013\r\n",
      "Data taken by Lauren and John\r\n",
      "\r\n",
      "data point      time (sec)      height (mm)     uncertainty (mm)\r\n",
      "    0               0               180             3.5\r\n",
      "    1               0.5             182             4.5\r\n",
      "    2               1               178             4.0\r\n",
      "    3               1.5             165             5.5\r\n",
      "    4               2               160             2.5\r\n",
      "    5               2.5             148             3.0\r\n",
      "    6               3               136             2.5\r\n",
      "    7               3.5             120             3.0\r\n",
      "    8               4                99             4.0\r\n",
      "    9               4.5              83             2.5\r\n",
      "   10               5                55             3.6\r\n",
      "   11               5.5              35             1.75\r\n",
      "   12               6                 5             0.75\r\n"
     ]
    }
   ],
   "source": [
    "!cat Data/MyData.txt"
   ]
  },
  {
   "cell_type": "code",
   "execution_count": 17,
   "metadata": {
    "collapsed": true
   },
   "outputs": [],
   "source": [
    "import numpy as np\n",
    "\n",
    "dataPt, time, height, error = np.loadtxt('Data/MyData.txt', skiprows=5, unpack=True)\n",
    "\n",
    "np.savetxt('Data/MyDataOut.txt', list(zip(dataPt, time, height, error)), fmt=\"%12.1f\")"
   ]
  },
  {
   "cell_type": "code",
   "execution_count": 18,
   "metadata": {},
   "outputs": [
    {
     "name": "stdout",
     "output_type": "stream",
     "text": [
      "         0.0          0.0        180.0          3.5\r\n",
      "         1.0          0.5        182.0          4.5\r\n",
      "         2.0          1.0        178.0          4.0\r\n",
      "         3.0          1.5        165.0          5.5\r\n",
      "         4.0          2.0        160.0          2.5\r\n",
      "         5.0          2.5        148.0          3.0\r\n",
      "         6.0          3.0        136.0          2.5\r\n",
      "         7.0          3.5        120.0          3.0\r\n",
      "         8.0          4.0         99.0          4.0\r\n",
      "         9.0          4.5         83.0          2.5\r\n",
      "        10.0          5.0         55.0          3.6\r\n",
      "        11.0          5.5         35.0          1.8\r\n",
      "        12.0          6.0          5.0          0.8\r\n"
     ]
    }
   ],
   "source": [
    "!cat Data/MyDataOut.txt"
   ]
  },
  {
   "cell_type": "code",
   "execution_count": 19,
   "metadata": {
    "collapsed": true
   },
   "outputs": [],
   "source": [
    "info = 'Data for falling mass experiment'\n",
    "info += '\\nDate: 16-Aug-2013'\n",
    "info += '\\nData taken by Lauren and John'\n",
    "info += '\\n\\n data point    time(sec)  height (mm)   '\n",
    "info += 'uncertainty (mm)'\n",
    "\n",
    "np.savetxt('Data/MyDataOutHeader.txt', list(zip(dataPt, time, height, error)), header=info, fmt=\"%12.1f\")"
   ]
  },
  {
   "cell_type": "code",
   "execution_count": 20,
   "metadata": {},
   "outputs": [
    {
     "name": "stdout",
     "output_type": "stream",
     "text": [
      "# Data for falling mass experiment\r\n",
      "# Date: 16-Aug-2013\r\n",
      "# Data taken by Lauren and John\r\n",
      "# \r\n",
      "#  data point    time(sec)  height (mm)   uncertainty (mm)\r\n",
      "         0.0          0.0        180.0          3.5\r\n",
      "         1.0          0.5        182.0          4.5\r\n",
      "         2.0          1.0        178.0          4.0\r\n",
      "         3.0          1.5        165.0          5.5\r\n",
      "         4.0          2.0        160.0          2.5\r\n",
      "         5.0          2.5        148.0          3.0\r\n",
      "         6.0          3.0        136.0          2.5\r\n",
      "         7.0          3.5        120.0          3.0\r\n",
      "         8.0          4.0         99.0          4.0\r\n",
      "         9.0          4.5         83.0          2.5\r\n",
      "        10.0          5.0         55.0          3.6\r\n",
      "        11.0          5.5         35.0          1.8\r\n",
      "        12.0          6.0          5.0          0.8\r\n"
     ]
    }
   ],
   "source": [
    "!cat Data/MyDataOutHeader.txt"
   ]
  },
  {
   "cell_type": "code",
   "execution_count": 21,
   "metadata": {
    "collapsed": true
   },
   "outputs": [],
   "source": [
    "np.savetxt('Data/MyDataOut.csv', list(zip(dataPt, time, height, error)), fmt=\"%0.1f\", delimiter=\",\")"
   ]
  },
  {
   "cell_type": "code",
   "execution_count": 22,
   "metadata": {},
   "outputs": [
    {
     "name": "stdout",
     "output_type": "stream",
     "text": [
      "0.0,0.0,180.0,3.5\r\n",
      "1.0,0.5,182.0,4.5\r\n",
      "2.0,1.0,178.0,4.0\r\n",
      "3.0,1.5,165.0,5.5\r\n",
      "4.0,2.0,160.0,2.5\r\n",
      "5.0,2.5,148.0,3.0\r\n",
      "6.0,3.0,136.0,2.5\r\n",
      "7.0,3.5,120.0,3.0\r\n",
      "8.0,4.0,99.0,4.0\r\n",
      "9.0,4.5,83.0,2.5\r\n",
      "10.0,5.0,55.0,3.6\r\n",
      "11.0,5.5,35.0,1.8\r\n",
      "12.0,6.0,5.0,0.8\r\n"
     ]
    }
   ],
   "source": [
    "!cat Data/MyDataOut.csv"
   ]
  },
  {
   "cell_type": "code",
   "execution_count": null,
   "metadata": {
    "collapsed": true
   },
   "outputs": [],
   "source": []
  }
 ],
 "metadata": {
  "hide_input": false,
  "kernelspec": {
   "display_name": "Python 3",
   "language": "python",
   "name": "python3"
  },
  "language_info": {
   "codemirror_mode": {
    "name": "ipython",
    "version": 3
   },
   "file_extension": ".py",
   "mimetype": "text/x-python",
   "name": "python",
   "nbconvert_exporter": "python",
   "pygments_lexer": "ipython3",
   "version": "3.7.3"
  },
  "toc": {
   "base_numbering": 1,
   "nav_menu": {},
   "number_sections": true,
   "sideBar": true,
   "skip_h1_title": false,
   "title_cell": "Table of Contents",
   "title_sidebar": "Contents",
   "toc_cell": false,
   "toc_position": {},
   "toc_section_display": true,
   "toc_window_display": false
  },
  "varInspector": {
   "cols": {
    "lenName": 16,
    "lenType": 16,
    "lenVar": 40
   },
   "kernels_config": {
    "python": {
     "delete_cmd_postfix": "",
     "delete_cmd_prefix": "del ",
     "library": "var_list.py",
     "varRefreshCmd": "print(var_dic_list())"
    },
    "r": {
     "delete_cmd_postfix": ") ",
     "delete_cmd_prefix": "rm(",
     "library": "var_list.r",
     "varRefreshCmd": "cat(var_dic_list()) "
    }
   },
   "types_to_exclude": [
    "module",
    "function",
    "builtin_function_or_method",
    "instance",
    "_Feature"
   ],
   "window_display": false
  }
 },
 "nbformat": 4,
 "nbformat_minor": 2
}
