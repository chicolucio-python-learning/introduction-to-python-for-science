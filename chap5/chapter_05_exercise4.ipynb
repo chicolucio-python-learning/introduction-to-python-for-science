{
 "cells": [
  {
   "cell_type": "code",
   "execution_count": 1,
   "metadata": {},
   "outputs": [
    {
     "name": "stdout",
     "output_type": "stream",
     "text": [
      "Data for Exercise 5\r\n",
      "Date: 16-Aug-2013\r\n",
      "Data taken by Lauren and John\r\n",
      "\r\n",
      " t      d       dy\r\n",
      " 1.0    2.94    0.7\r\n",
      " 4.5    8.29    1.2\r\n",
      " 8.0    9.36    1.2\r\n",
      "11.5   11.60    1.4\r\n",
      "15.0    9.32    1.3\r\n",
      "18.5    7.75    1.1\r\n",
      "22.0    8.06    1.2\r\n",
      "25.5    5.60    1.0\r\n",
      "29.0    4.50    0.8\r\n",
      "32.5    4.01    0.8\r\n",
      "36.0    2.62    0.7\r\n",
      "39.5    1.70    0.6\r\n",
      "43.0    2.03    0.6\r\n"
     ]
    }
   ],
   "source": [
    "!cat DecayOcsData.txt"
   ]
  },
  {
   "cell_type": "code",
   "execution_count": 2,
   "metadata": {
    "ExecuteTime": {
     "end_time": "2019-10-09T16:39:12.954473Z",
     "start_time": "2019-10-09T16:39:12.798016Z"
    }
   },
   "outputs": [
    {
     "data": {
      "image/png": "[encoded data removed]",
      "text/plain": [
       "<Figure size 432x288 with 1 Axes>"
      ]
     },
     "metadata": {
      "needs_background": "light"
     },
     "output_type": "display_data"
    }
   ],
   "source": [
    "import numpy as np\n",
    "import matplotlib.pyplot as plt\n",
    "\n",
    "# read data from file\n",
    "tdata, ydata, yerror = np.loadtxt('DecayOcsData.txt', skiprows=5, unpack=True)\n",
    "\n",
    "# create theoretical fitting curve\n",
    "t = np.linspace(0, 45, 128)\n",
    "y = (3 + 1 / 2 * np.sin(np.pi * t / 5)) * t * np.exp(-t / 10)\n",
    "\n",
    "# create plot\n",
    "plt.figure(1, figsize=(6, 4))\n",
    "plt.plot(t, y, 'b-', label=\"theory\")\n",
    "plt.errorbar(tdata, ydata, fmt='ro', label=\"data\", yerr=yerror, ecolor='black')\n",
    "plt.xlabel('time (s)')\n",
    "plt.ylabel('position (cm)')\n",
    "plt.legend(loc='upper right')\n",
    "\n",
    "# save plot to file\n",
    "plt.savefig('exercise5.pdf')\n",
    "\n",
    "# display plot on screen\n",
    "plt.show()"
   ]
  },
  {
   "cell_type": "code",
   "execution_count": null,
   "metadata": {
    "collapsed": true
   },
   "outputs": [],
   "source": []
  }
 ],
 "metadata": {
  "hide_input": false,
  "kernelspec": {
   "display_name": "Python 3",
   "language": "python",
   "name": "python3"
  },
  "language_info": {
   "codemirror_mode": {
    "name": "ipython",
    "version": 3
   },
   "file_extension": ".py",
   "mimetype": "text/x-python",
   "name": "python",
   "nbconvert_exporter": "python",
   "pygments_lexer": "ipython3",
   "version": "3.7.3"
  },
  "toc": {
   "base_numbering": 1,
   "nav_menu": {},
   "number_sections": true,
   "sideBar": true,
   "skip_h1_title": false,
   "title_cell": "Table of Contents",
   "title_sidebar": "Contents",
   "toc_cell": false,
   "toc_position": {},
   "toc_section_display": true,
   "toc_window_display": false
  },
  "varInspector": {
   "cols": {
    "lenName": 16,
    "lenType": 16,
    "lenVar": 40
   },
   "kernels_config": {
    "python": {
     "delete_cmd_postfix": "",
     "delete_cmd_prefix": "del ",
     "library": "var_list.py",
     "varRefreshCmd": "print(var_dic_list())"
    },
    "r": {
     "delete_cmd_postfix": ") ",
     "delete_cmd_prefix": "rm(",
     "library": "var_list.r",
     "varRefreshCmd": "cat(var_dic_list()) "
    }
   },
   "types_to_exclude": [
    "module",
    "function",
    "builtin_function_or_method",
    "instance",
    "_Feature"
   ],
   "window_display": false
  }
 },
 "nbformat": 4,
 "nbformat_minor": 2
}
