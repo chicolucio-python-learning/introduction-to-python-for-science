{
 "cells": [
  {
   "cell_type": "markdown",
   "metadata": {},
   "source": [
    "# Exercise 1\n",
    "\n",
    "Write a program to calculate the factorial of a positive integer input by the user.\n",
    "Recall that the factorial function is given by x! = x(x − 1)(x − 2)...(2)(1) so that\n",
    "1! = 1, 2! = 2, 3! = 6, 4! = 24, ...\n",
    "\n",
    "(a) Write the factorial function using a Python while loop.\n",
    "\n",
    "(b) Write the factorial function using a Python for loop.\n",
    "\n",
    "Check your programs to make sure they work for 1, 2, 3, 5, and beyond, but especially for the first 5 integers."
   ]
  },
  {
   "cell_type": "code",
   "execution_count": 1,
   "metadata": {
    "ExecuteTime": {
     "end_time": "2019-10-09T16:50:53.972543Z",
     "start_time": "2019-10-09T16:50:53.968341Z"
    }
   },
   "outputs": [
    {
     "name": "stdout",
     "output_type": "stream",
     "text": [
      "Fatorial =  120\n"
     ]
    }
   ],
   "source": [
    "#using while\n",
    "\n",
    "x = 5\n",
    "fac = x\n",
    "\n",
    "if x < 0:\n",
    "    print('Negativo!')\n",
    "elif x < 2:\n",
    "    print('Fatorial = ', 1)\n",
    "else:\n",
    "    y = x - 1\n",
    "    counter = 1\n",
    "    while counter < (fac):\n",
    "        x = x * (y)\n",
    "        y = y - 1\n",
    "        counter = counter + 1\n",
    "    #print('Contador = ', counter)\n",
    "    print('Fatorial = ', x)"
   ]
  },
  {
   "cell_type": "code",
   "execution_count": 2,
   "metadata": {
    "ExecuteTime": {
     "end_time": "2019-10-09T16:51:12.061692Z",
     "start_time": "2019-10-09T16:51:12.054696Z"
    }
   },
   "outputs": [
    {
     "name": "stdout",
     "output_type": "stream",
     "text": [
      "Fatorial =  120\n"
     ]
    }
   ],
   "source": [
    "# using for\n",
    "\n",
    "x = 5\n",
    "\n",
    "if x < 0:\n",
    "    print('Negativo!')\n",
    "elif x < 2:\n",
    "    print('Fatorial = ', 1)\n",
    "else:\n",
    "    for i in range(1, x, 1):\n",
    "        x = x * i\n",
    "    print('Fatorial = ', x)"
   ]
  },
  {
   "cell_type": "code",
   "execution_count": 3,
   "metadata": {
    "ExecuteTime": {
     "end_time": "2019-10-09T16:51:17.375995Z",
     "start_time": "2019-10-09T16:51:17.366881Z"
    }
   },
   "outputs": [
    {
     "name": "stdout",
     "output_type": "stream",
     "text": [
      "120\n"
     ]
    }
   ],
   "source": [
    "# using while (peguei na web)\n",
    "\n",
    "x = 5\n",
    "\n",
    "if x < 0:\n",
    "    print('Negativo!')\n",
    "else:\n",
    "    factorial = 1\n",
    "    while x > 1:\n",
    "        factorial = factorial * x\n",
    "        x = x - 1\n",
    "    print(factorial)"
   ]
  },
  {
   "cell_type": "code",
   "execution_count": 84,
   "metadata": {},
   "outputs": [
    {
     "name": "stdout",
     "output_type": "stream",
     "text": [
      "120\n"
     ]
    }
   ],
   "source": [
    "#using math.factorial(x)\n",
    "import math\n",
    "\n",
    "x = 5\n",
    "print(math.factorial(x))"
   ]
  },
  {
   "cell_type": "markdown",
   "metadata": {},
   "source": [
    "# Exercise 2\n",
    "\n",
    "The following Python program finds the smallest non-trivial (not 1) prime factor of a positive integer.\n",
    "\n",
    "`\n",
    "n = int(raw_input(\"Input an integer > 1: \"))\n",
    "i = 2\n",
    "while (n % i) != 0:\n",
    "    i += 1\n",
    "    print(\"The smallest factor of n is:\", i )\n",
    "`\n",
    "\n",
    "(a) Type this program into your computer and verify that it works as advertised. Then briefly explain how it works and why the while loop always terminates.\n",
    "\n",
    "(b) Modify the program so that it tells you if the integer input is a prime number or not. If it is not a prime number, write your program so that it prints out the smallest prime factor. Using your program verify that the following integers are prime numbers: 101, 8191, 947431."
   ]
  },
  {
   "cell_type": "code",
   "execution_count": 103,
   "metadata": {},
   "outputs": [
    {
     "name": "stdout",
     "output_type": "stream",
     "text": [
      "Input an integer > 1: 5464879483137\n",
      "The smallest factor of 5464879483137 is: 3\n"
     ]
    }
   ],
   "source": [
    "n = int(input(\"Input an integer > 1: \"))\n",
    "i = 2\n",
    "while (n % i) != 0:\n",
    "    i += 1\n",
    "\n",
    "if i == n:\n",
    "    print(n, 'is a prime number')\n",
    "else:\n",
    "    print('The smallest factor of', n, 'is:', i)"
   ]
  },
  {
   "cell_type": "markdown",
   "metadata": {},
   "source": [
    "# Exercise 3\n",
    "\n",
    "Consider the matrix list `x = [[1, 2, 3], [4, 5, 6], [7, 8, 9]]`. Write a list comprehension to extract the last column of the matrix `[3, 6, 9]`. Write another list comprehension to create a vector of twice the square of the middle column `[8, 50, 128]`."
   ]
  },
  {
   "cell_type": "code",
   "execution_count": 140,
   "metadata": {},
   "outputs": [
    {
     "name": "stdout",
     "output_type": "stream",
     "text": [
      "[3, 6, 9]\n",
      "[2, 5, 8]\n",
      "[8, 50, 128]\n",
      "[8, 50, 128]\n"
     ]
    }
   ],
   "source": [
    "import numpy as np\n",
    "\n",
    "x = [[1, 2, 3], [4, 5, 6], [7, 8, 9]]\n",
    "\n",
    "last = [x[i][2] for i in range(3)]\n",
    "\n",
    "print(last)\n",
    "\n",
    "middle = [x[i][1] for i in range(3)]\n",
    "\n",
    "print(middle)\n",
    "\n",
    "twice_square = list(\n",
    "    2 * (np.array(middle) * np.array(middle)))  # gambiarra mode totally ON\n",
    "\n",
    "print(twice_square)\n",
    "\n",
    "# outra forma\n",
    "\n",
    "twice_square = [2 * y**2 for y in middle]  # lord das comprehension mode ON\n",
    "\n",
    "print(twice_square)"
   ]
  },
  {
   "cell_type": "markdown",
   "metadata": {},
   "source": [
    "# Exercise 4\n",
    "\n",
    "Write a program that calculates the value of an investment after some number of years specified by the user if\n",
    "\n",
    "(a) the principal is compounded annually\n",
    "\n",
    "(b) the principle is compounded monthly\n",
    "\n",
    "(c) the principle is compounded daily\n",
    "\n",
    "Your program should ask the user for the initial investment (principal), the interest rate in percent, and the number of years the money will be invested (allow for fractional years). For an initial investment of \\\\$ 1000 at an interest rate of 6 \\%, after 10 years I get \\\\$ 1790.85 when compounded annually, \\\\$ 1819.40 when compounded\n",
    "monthly, and \\$ 1822.03 when compounded daily, assuming 12 months in a year and 365.24 days in a year, where the monthly interest rate is the annual rate divided by 12 and the daily rate is the annual rate divided by 365 (don’t worry about leap years)."
   ]
  },
  {
   "cell_type": "code",
   "execution_count": 187,
   "metadata": {},
   "outputs": [
    {
     "name": "stdout",
     "output_type": "stream",
     "text": [
      "Programa Capitalismo Selvagem \n",
      "\n",
      "Forneça o principal do investimento: 1000\n",
      "Forneça a taxa de juros anualizada (em %) do investimento: 6\n",
      "Forneça o tempo (em anos) do investimento: 10\n",
      "Informe a forma de capitalização dos juros: anual(a), mensal(m) ou diária(d): d\n",
      "Montante final: $ 1822.03\n"
     ]
    }
   ],
   "source": [
    "# user input\n",
    "print('Programa Capitalismo Selvagem \\n')\n",
    "\n",
    "principal = float(input('Forneça o principal do investimento: '))\n",
    "int_rate_years = float(\n",
    "    input('Forneça a taxa de juros anualizada (em %) do investimento: '))\n",
    "time_years = float(input('Forneça o tempo (em anos) do investimento: '))\n",
    "\n",
    "# convertendo o valor da porcentagem para usar nas contas\n",
    "int_rate_years = int_rate_years / 100\n",
    "\n",
    "comp_type = 'amd'\n",
    "while (comp_type not in ('a', 'm', 'd')):\n",
    "    comp_type = input(\n",
    "        'Informe a forma de capitalização dos juros: anual(a), mensal(m) ou diária(d): '\n",
    "    )\n",
    "\n",
    "if comp_type == 'a':\n",
    "    time = time_years\n",
    "    int_rate = int_rate_years\n",
    "elif comp_type == 'm':\n",
    "    time = time_years * 12\n",
    "    int_rate = int_rate_years / 12\n",
    "elif comp_type == 'd':\n",
    "    time = time_years * 365\n",
    "    int_rate = int_rate_years / 365\n",
    "\n",
    "# fórmula de juros compostos\n",
    "future_value = principal * (1 + int_rate)**(time)\n",
    "\n",
    "# apresentando a resposta\n",
    "print('Montante final: $ {0:0.2f}'.format(future_value))"
   ]
  },
  {
   "cell_type": "markdown",
   "metadata": {},
   "source": [
    "# Exercise 5\n",
    "\n",
    "Write a program that determines the day of the week for any given calendar date after January 1, 1900, which was a Monday. Your program will need to take into account leap years, which occur in every year that is divisible by 4, except for years that are divisible by 100 but are not divisible by 400. For example, 1900 was not a leap year, but 2000 was a leap year. Test that your program gives the following answers: Monday 1900 January 1, Tuesday 1933 December 5, Wednesday 1993 June 23, Thursday 1953 January 15, Friday 1963 November 22, Saturday 1919 June 28, Sunday 2005 August 28.\n",
    "\n",
    "Ver: http://babel.pocoo.org/en/latest/dates.html\n",
    "\n",
    "https://docs.python.org/2/library/datetime.html#\n",
    "\n",
    "http://strftime.org/"
   ]
  },
  {
   "cell_type": "code",
   "execution_count": 199,
   "metadata": {},
   "outputs": [
    {
     "name": "stdout",
     "output_type": "stream",
     "text": [
      "Enter a date in DD-MM-YYYY format: 05-12-1933\n",
      "Tuesday, 1933 December 05\n",
      "terça-feira, 5 de dezembro de 1933\n"
     ]
    }
   ],
   "source": [
    "import datetime\n",
    "from babel.dates import format_date, format_datetime, format_time\n",
    "\n",
    "date_entry = input('Enter a date in DD-MM-YYYY format: ')\n",
    "day, month, year = map(int, date_entry.split('-'))\n",
    "date1 = datetime.date(year, month, day)\n",
    "print(date1.strftime('%A, %Y %B %d'))\n",
    "\n",
    "print(format_date(date1, format='full', locale='pt_BR'))"
   ]
  },
  {
   "cell_type": "markdown",
   "metadata": {},
   "source": [
    "# Exemplo de uso do datetime"
   ]
  },
  {
   "cell_type": "code",
   "execution_count": 203,
   "metadata": {},
   "outputs": [
    {
     "name": "stdout",
     "output_type": "stream",
     "text": [
      "Time in seconds since the epoch: 1517939124.8658943\n",
      "Current date and time:  2018-02-06 15:45:24.866123\n",
      "Or like this:  18-02-06-15-45\n",
      "Current year:  2018\n",
      "Month of year:  February\n",
      "Week number of the year:  06\n",
      "Weekday of the week:  2\n",
      "Day of year:  037\n",
      "Day of the month :  06\n",
      "Day of week:  Tuesday\n"
     ]
    }
   ],
   "source": [
    "import time\n",
    "import datetime\n",
    "\n",
    "print(\"Time in seconds since the epoch: %s\" % time.time())\n",
    "print(\"Current date and time: \", datetime.datetime.now())\n",
    "print(\"Or like this: \", datetime.datetime.now().strftime(\"%y-%m-%d-%H-%M\"))\n",
    "\n",
    "print(\"Current year: \", datetime.date.today().strftime(\"%Y\"))\n",
    "print(\"Month of year: \", datetime.date.today().strftime(\"%B\"))\n",
    "print(\"Week number of the year: \", datetime.date.today().strftime(\"%W\"))\n",
    "print(\"Weekday of the week: \", datetime.date.today().strftime(\"%w\"))\n",
    "print(\"Day of year: \", datetime.date.today().strftime(\"%j\"))\n",
    "print(\"Day of the month : \", datetime.date.today().strftime(\"%d\"))\n",
    "print(\"Day of week: \", datetime.date.today().strftime(\"%A\"))"
   ]
  },
  {
   "cell_type": "code",
   "execution_count": null,
   "metadata": {
    "collapsed": true
   },
   "outputs": [],
   "source": []
  }
 ],
 "metadata": {
  "hide_input": false,
  "kernelspec": {
   "display_name": "Python 3",
   "language": "python",
   "name": "python3"
  },
  "language_info": {
   "codemirror_mode": {
    "name": "ipython",
    "version": 3
   },
   "file_extension": ".py",
   "mimetype": "text/x-python",
   "name": "python",
   "nbconvert_exporter": "python",
   "pygments_lexer": "ipython3",
   "version": "3.7.3"
  },
  "toc": {
   "base_numbering": 1,
   "nav_menu": {},
   "number_sections": true,
   "sideBar": true,
   "skip_h1_title": false,
   "title_cell": "Table of Contents",
   "title_sidebar": "Contents",
   "toc_cell": false,
   "toc_position": {},
   "toc_section_display": true,
   "toc_window_display": false
  },
  "varInspector": {
   "cols": {
    "lenName": 16,
    "lenType": 16,
    "lenVar": 40
   },
   "kernels_config": {
    "python": {
     "delete_cmd_postfix": "",
     "delete_cmd_prefix": "del ",
     "library": "var_list.py",
     "varRefreshCmd": "print(var_dic_list())"
    },
    "r": {
     "delete_cmd_postfix": ") ",
     "delete_cmd_prefix": "rm(",
     "library": "var_list.r",
     "varRefreshCmd": "cat(var_dic_list()) "
    }
   },
   "types_to_exclude": [
    "module",
    "function",
    "builtin_function_or_method",
    "instance",
    "_Feature"
   ],
   "window_display": false
  }
 },
 "nbformat": 4,
 "nbformat_minor": 2
}
